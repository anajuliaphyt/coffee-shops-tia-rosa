{
  "nbformat": 4,
  "nbformat_minor": 0,
  "metadata": {
    "colab": {
      "provenance": [],
      "authorship_tag": "ABX9TyPUmz2agfd5CfiME8t+n90R",
      "include_colab_link": true
    },
    "kernelspec": {
      "name": "python3",
      "display_name": "Python 3"
    },
    "language_info": {
      "name": "python"
    }
  },
  "cells": [
    {
      "cell_type": "markdown",
      "metadata": {
        "id": "view-in-github",
        "colab_type": "text"
      },
      "source": [
        "<a href=\"https://colab.research.google.com/github/anajuliaphyt/coffee-shops-tia-rosa/blob/main/desafio.ipynb\" target=\"_parent\"><img src=\"https://colab.research.google.com/assets/colab-badge.svg\" alt=\"Open In Colab\"/></a>"
      ]
    },
    {
      "cell_type": "code",
      "execution_count": 1,
      "metadata": {
        "colab": {
          "base_uri": "https://localhost:8080/"
        },
        "id": "fzNnO5b6GdR8",
        "outputId": "494807fd-8174-44ea-aec6-a94390bdb662"
      },
      "outputs": [
        {
          "output_type": "stream",
          "name": "stdout",
          "text": [
            "--- Detalhes do Professor ---\n",
            "Nome: Emily de Melo\n",
            "Endereço: quadra 9 conjunto B - Sobradinho\n",
            "Admissão: 15/08/2023\n",
            "Área de Atuação: Matemática\n",
            "Carga Horária Diária: 8 horas\n",
            "Carga Horária Semanal: 40 horas\n",
            "Valor Pago por Hora/Aula: R$ 50.00\n",
            "Dias da Semana Trabalhados: Segunda-feira, Terça-feira, Quarta-feira, Quinta-feira, Sexta-feira\n",
            "Dias do Mês Trabalhados (aprox.): 20\n",
            "Custo Semanal: R$ 2000.00\n",
            "Custo Mensal: R$ 8000.00\n"
          ]
        }
      ],
      "source": [
        "# --- Dados de Exemplo para um Professor ---\n",
        "\n",
        "# Informações básicas do professor\n",
        "nome_professor = \"Emily de Melo\"\n",
        "endereco_professor = \"quadra 9 conjunto B - Sobradinho\"\n",
        "data_admissao = \"15/08/2023\" # Formato string por enquanto, pode ser melhorado com datetime\n",
        "area_atuacao = \"Matemática\"\n",
        "\n",
        "# Carga horária e valor por aula\n",
        "carga_horaria_diaria = 8  # Horas\n",
        "carga_horaria_semanal = 40 # Horas (5 dias * 8 horas/dia)\n",
        "valor_hora_aula = 50.00  # R$\n",
        "\n",
        "# Dias de trabalho\n",
        "dias_da_semana_trabalhados = [\"Segunda-feira\", \"Terça-feira\", \"Quarta-feira\", \"Quinta-feira\", \"Sexta-feira\"]\n",
        "dias_do_mes_trabalhados = 20 # Número de dias úteis no mês (aprox. 4 semanas * 5 dias)\n",
        "\n",
        "# --- Cálculos de Custo ---\n",
        "\n",
        "# Custo semanal\n",
        "# Considera carga horária semanal * valor por hora aula\n",
        "custo_semanal = carga_horaria_semanal * valor_hora_aula\n",
        "\n",
        "# Custo mensal\n",
        "\n",
        "custo_mensal = dias_do_mes_trabalhados * carga_horaria_diaria * valor_hora_aula\n",
        "\n",
        "# --- Exibindo as informações e cálculos ---\n",
        "print(f\"--- Detalhes do Professor ---\")\n",
        "print(f\"Nome: {nome_professor}\")\n",
        "print(f\"Endereço: {endereco_professor}\")\n",
        "print(f\"Admissão: {data_admissao}\")\n",
        "print(f\"Área de Atuação: {area_atuacao}\")\n",
        "print(f\"Carga Horária Diária: {carga_horaria_diaria} horas\")\n",
        "print(f\"Carga Horária Semanal: {carga_horaria_semanal} horas\")\n",
        "print(f\"Valor Pago por Hora/Aula: R$ {valor_hora_aula:.2f}\")\n",
        "print(f\"Dias da Semana Trabalhados: {', '.join(dias_da_semana_trabalhados)}\")\n",
        "print(f\"Dias do Mês Trabalhados (aprox.): {dias_do_mes_trabalhados}\")\n",
        "print(f\"Custo Semanal: R$ {custo_semanal:.2f}\")\n",
        "print(f\"Custo Mensal: R$ {custo_mensal:.2f}\")"
      ]
    }
  ]
}